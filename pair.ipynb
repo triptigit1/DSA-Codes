{
 "cells": [
  {
   "cell_type": "code",
   "execution_count": null,
   "id": "3d26dd49",
   "metadata": {},
   "outputs": [],
   "source": [
    "// Solution to Q.1 How to find all pairs of numbers whose sum is equal to a given number?\n",
    "\n",
    "arr_1=[12,15,21,5,6,7,10,11];\n",
    "\n",
    "matching_vals=[];\n",
    "\n",
    "srch_val=21;\n",
    "count=0;\n",
    "for(i=0;i<arr_1.length-1;i++){\n",
    "    for(j=i+1;j<arr_1.length;j++){\n",
    "        \n",
    "        if(arr_1[i]+arr_1[j]==srch_val){\n",
    "            \n",
    "            count++;\n",
    "            obj={num1:arr_1[i], num2:arr_1[j]};\n",
    "            matching_vals.push(obj);\n",
    "            \n",
    "        }\n",
    "    }\n",
    "}\n",
    "\n",
    "if(count==0)\n",
    "\n",
    "console.log(\"There are no matching pair of numbers which is equal to the given number\");\n",
    "\n",
    "else\n",
    "\n",
    "console.log(\"The pair(s) of numbers which match the given number is(are):\");\n",
    "console.log(matching_vals);\n"
   ]
  }
 ],
 "metadata": {
  "kernelspec": {
   "display_name": "JavaScript (Node.js)",
   "language": "javascript",
   "name": "javascript"
  },
  "language_info": {
   "file_extension": ".js",
   "mimetype": "application/javascript",
   "name": "javascript",
   "version": "18.12.1"
  }
 },
 "nbformat": 4,
 "nbformat_minor": 5
}
